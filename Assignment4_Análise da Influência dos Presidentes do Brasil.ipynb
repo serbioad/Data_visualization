{
 "cells": [
  {
   "cell_type": "markdown",
   "metadata": {
    "deletable": false,
    "editable": false,
    "nbgrader": {
     "cell_type": "markdown",
     "checksum": "7539457c865cc3aec382650368b3be67",
     "grade": false,
     "grade_id": "cell-2ccb6b5d27ca3b7d",
     "locked": true,
     "schema_version": 3,
     "solution": false,
     "task": false
    }
   },
   "source": [
    "# Assignment 4\n",
    "\n",
    "Before working on this assignment please read these instructions fully. In the submission area, you will notice that you can click the link to **Preview the Grading** for each step of the assignment. This is the criteria that will be used for peer grading. Please familiarize yourself with the criteria before beginning the assignment.\n",
    "\n",
    "This assignment requires that you find **at least two datasets** on the web which are related, and that you visualize these datasets to answer the assignment question. You are free to utilize datasets with any location or domain, the usage of **Ann Arbor sports and athletics** datasets in the example is just a suggestion.\n",
    "\n",
    "You are welcome to choose datasets at your discretion, but keep in mind **they will be shared with your peers**, so choose appropriate datasets. Sensitive, confidential, illicit, and proprietary materials are not good choices for datasets for this assignment. You are welcome to upload datasets of your own as well, and link to them using a third party repository such as github, pastebin, etc. Please be aware of the Coursera terms of service with respect to intellectual property.\n",
    "\n",
    "Also, you are welcome to preserve data in its original language, but for the purposes of grading you should provide english translations. You are welcome to provide multiple visuals in different languages if you would like!\n",
    "\n",
    "As this assignment is for the whole course, you must incorporate principles discussed in the first week, such as having as high data-ink ratio (Tufte) and aligning with Cairo’s principles of truth, beauty, function, and insight.\n",
    "\n",
    "Here are the assignment instructions:\n",
    "\n",
    " * You must state a question you are seeking to answer with your visualizations.\n",
    " * You must provide at least two links to available datasets. These could be links to files such as CSV or Excel files, or links to websites which might have data in tabular form, such as Wikipedia pages.\n",
    " * You must upload an image which addresses the research question you stated. In addition to addressing the question, this visual should follow Cairo's principles of truthfulness, functionality, beauty, and insightfulness.\n",
    " * You must contribute a short (1-2 paragraph) written justification of how your visualization addresses your stated research question.\n",
    "\n",
    "## Tips\n",
    "* Wikipedia is an excellent source of data, and I strongly encourage you to explore it for new data sources.\n",
    "* Many governments run open data initiatives at the city, region, and country levels, and these are wonderful resources for localized data sources.\n",
    "* Several international agencies, such as the [United Nations](http://data.un.org/), the [World Bank](http://data.worldbank.org/), the [Global Open Data Index](http://index.okfn.org/place/) are other great places to look for data.\n",
    "* This assignment requires you to convert and clean datafiles. Check out the discussion forums for tips on how to do this from various sources, and share your successes with your fellow students!\n",
    "\n",
    "## Example\n",
    "Looking for an example? Here's what our course assistant put together as an example! [Example Solution File](./readonly/Assignment4_example.pdf)"
   ]
  },
  {
   "cell_type": "markdown",
   "metadata": {},
   "source": [
    "# Título do projeto\n",
    "\n",
    "Análise da Influência dos Presidentes do Brasil na Inflação (IPCA) e no Valor do Real Brasileiro (BRL) nas Últimas Duas Décadas\n",
    "\n",
    "## Pergunta de pesquisa\n",
    "\n",
    "Como tem sido a influência dos presidentes do Brasil nos principais indicadores econômicos, especificamente na inflação medida pelo Índice de Preços ao Consumidor Amplo (IPCA) e no valor da moeda brasileira (BRL)?\n",
    "\n",
    "## Links para conjuntos de dados acessíveis ao público\n",
    "\n",
    "http://www.ipeadata.gov.br/ExibeSerie.aspx?serid=38391\n",
    "\n",
    "https://br.investing.com/currencies/usd-brl-historical-data\n",
    "\n",
    "https://br.investing.com/currencies/eur-brl-historical-data\n",
    "\n",
    "https://es.wikipedia.org/wiki/Anexo:Presidentes_de_Brasil"
   ]
  },
  {
   "cell_type": "markdown",
   "metadata": {},
   "source": [
    "## Importar bibliotecas"
   ]
  },
  {
   "cell_type": "code",
   "execution_count": 66,
   "metadata": {},
   "outputs": [],
   "source": [
    "import pandas as pd\n",
    "import numpy as np\n",
    "import matplotlib.pyplot as plt"
   ]
  },
  {
   "cell_type": "markdown",
   "metadata": {},
   "source": [
    "## Importar base de dados de IPCA (inflação)"
   ]
  },
  {
   "cell_type": "code",
   "execution_count": 67,
   "metadata": {},
   "outputs": [
    {
     "data": {
      "text/html": [
       "<div>\n",
       "<style scoped>\n",
       "    .dataframe tbody tr th:only-of-type {\n",
       "        vertical-align: middle;\n",
       "    }\n",
       "\n",
       "    .dataframe tbody tr th {\n",
       "        vertical-align: top;\n",
       "    }\n",
       "\n",
       "    .dataframe thead th {\n",
       "        text-align: right;\n",
       "    }\n",
       "</style>\n",
       "<table border=\"1\" class=\"dataframe\">\n",
       "  <thead>\n",
       "    <tr style=\"text-align: right;\">\n",
       "      <th></th>\n",
       "      <th>Data</th>\n",
       "      <th>IPCA(%)</th>\n",
       "    </tr>\n",
       "  </thead>\n",
       "  <tbody>\n",
       "    <tr>\n",
       "      <th>0</th>\n",
       "      <td>2000.01</td>\n",
       "      <td>7,70</td>\n",
       "    </tr>\n",
       "    <tr>\n",
       "      <th>1</th>\n",
       "      <td>2000.02</td>\n",
       "      <td>1,57</td>\n",
       "    </tr>\n",
       "    <tr>\n",
       "      <th>2</th>\n",
       "      <td>2000.03</td>\n",
       "      <td>2,67</td>\n",
       "    </tr>\n",
       "    <tr>\n",
       "      <th>3</th>\n",
       "      <td>2000.04</td>\n",
       "      <td>5,16</td>\n",
       "    </tr>\n",
       "    <tr>\n",
       "      <th>4</th>\n",
       "      <td>2000.05</td>\n",
       "      <td>0,12</td>\n",
       "    </tr>\n",
       "  </tbody>\n",
       "</table>\n",
       "</div>"
      ],
      "text/plain": [
       "      Data IPCA(%)\n",
       "0  2000.01    7,70\n",
       "1  2000.02    1,57\n",
       "2  2000.03    2,67\n",
       "3  2000.04    5,16\n",
       "4  2000.05    0,12"
      ]
     },
     "execution_count": 67,
     "metadata": {},
     "output_type": "execute_result"
    }
   ],
   "source": [
    "df_ipca=pd.read_csv('IPCA.csv')\n",
    "df_ipca.head()"
   ]
  },
  {
   "cell_type": "markdown",
   "metadata": {},
   "source": [
    "### Verificar dados vacios"
   ]
  },
  {
   "cell_type": "code",
   "execution_count": 68,
   "metadata": {},
   "outputs": [
    {
     "name": "stdout",
     "output_type": "stream",
     "text": [
      "Data       0\n",
      "IPCA(%)    0\n",
      "dtype: int64\n"
     ]
    }
   ],
   "source": [
    "print(df_ipca.isnull().sum())"
   ]
  },
  {
   "cell_type": "markdown",
   "metadata": {},
   "source": [
    "- não tem dados faltantes"
   ]
  },
  {
   "cell_type": "markdown",
   "metadata": {},
   "source": [
    "### Verificar tipos de dados"
   ]
  },
  {
   "cell_type": "code",
   "execution_count": 69,
   "metadata": {},
   "outputs": [
    {
     "name": "stdout",
     "output_type": "stream",
     "text": [
      "Data       float64\n",
      "IPCA(%)     object\n",
      "dtype: object\n",
      "************************************************************\n",
      "Data       2000.01\n",
      "IPCA(%)       7,70\n",
      "Name: 0, dtype: object\n"
     ]
    }
   ],
   "source": [
    "print(df_ipca.dtypes)\n",
    "print('*'*60)\n",
    "print(df_ipca.iloc[0])"
   ]
  },
  {
   "cell_type": "markdown",
   "metadata": {},
   "source": [
    "- Tem que convertir a coluna Data a formato de datatime e a coluna IPCA a float\n",
    "- Como o valor do IPCA é lançado o dia 15 de todo mes se vai a colocar o dia nada data"
   ]
  },
  {
   "cell_type": "code",
   "execution_count": 70,
   "metadata": {},
   "outputs": [],
   "source": [
    "df_ipca['Data']=df_ipca['Data'].apply(lambda x: str(x)+'.15')\n",
    "\n",
    "# Convertir 'Data' a formato de fecha\n",
    "df_ipca['Data'] = pd.to_datetime(df_ipca['Data'], format='%Y.%m.%d')\n",
    "\n",
    "# Convertir 'IPCA(%)' a tipo de dato float\n",
    "df_ipca['IPCA(%)'] = df_ipca['IPCA(%)'].str.replace(',', '.').astype(float)"
   ]
  },
  {
   "cell_type": "code",
   "execution_count": 71,
   "metadata": {},
   "outputs": [
    {
     "data": {
      "text/html": [
       "<div>\n",
       "<style scoped>\n",
       "    .dataframe tbody tr th:only-of-type {\n",
       "        vertical-align: middle;\n",
       "    }\n",
       "\n",
       "    .dataframe tbody tr th {\n",
       "        vertical-align: top;\n",
       "    }\n",
       "\n",
       "    .dataframe thead th {\n",
       "        text-align: right;\n",
       "    }\n",
       "</style>\n",
       "<table border=\"1\" class=\"dataframe\">\n",
       "  <thead>\n",
       "    <tr style=\"text-align: right;\">\n",
       "      <th></th>\n",
       "      <th>Data</th>\n",
       "      <th>IPCA(%)</th>\n",
       "    </tr>\n",
       "  </thead>\n",
       "  <tbody>\n",
       "    <tr>\n",
       "      <th>0</th>\n",
       "      <td>2000-01-15</td>\n",
       "      <td>7.70</td>\n",
       "    </tr>\n",
       "    <tr>\n",
       "      <th>1</th>\n",
       "      <td>2000-02-15</td>\n",
       "      <td>1.57</td>\n",
       "    </tr>\n",
       "    <tr>\n",
       "      <th>2</th>\n",
       "      <td>2000-03-15</td>\n",
       "      <td>2.67</td>\n",
       "    </tr>\n",
       "    <tr>\n",
       "      <th>3</th>\n",
       "      <td>2000-04-15</td>\n",
       "      <td>5.16</td>\n",
       "    </tr>\n",
       "    <tr>\n",
       "      <th>4</th>\n",
       "      <td>2000-05-15</td>\n",
       "      <td>0.12</td>\n",
       "    </tr>\n",
       "  </tbody>\n",
       "</table>\n",
       "</div>"
      ],
      "text/plain": [
       "        Data  IPCA(%)\n",
       "0 2000-01-15     7.70\n",
       "1 2000-02-15     1.57\n",
       "2 2000-03-15     2.67\n",
       "3 2000-04-15     5.16\n",
       "4 2000-05-15     0.12"
      ]
     },
     "metadata": {},
     "output_type": "display_data"
    },
    {
     "name": "stdout",
     "output_type": "stream",
     "text": [
      "Data       datetime64[ns]\n",
      "IPCA(%)           float64\n",
      "dtype: object\n",
      "************************************************************\n",
      "Data       2000-01-15 00:00:00\n",
      "IPCA(%)                    7.7\n",
      "Name: 0, dtype: object\n"
     ]
    }
   ],
   "source": [
    "display(df_ipca.head())\n",
    "print(df_ipca.dtypes)\n",
    "print('*'*60)\n",
    "print(df_ipca.iloc[0])"
   ]
  },
  {
   "cell_type": "markdown",
   "metadata": {},
   "source": [
    "## Importar base de dados de cotação USD-BRL"
   ]
  },
  {
   "cell_type": "code",
   "execution_count": 72,
   "metadata": {},
   "outputs": [
    {
     "data": {
      "text/html": [
       "<div>\n",
       "<style scoped>\n",
       "    .dataframe tbody tr th:only-of-type {\n",
       "        vertical-align: middle;\n",
       "    }\n",
       "\n",
       "    .dataframe tbody tr th {\n",
       "        vertical-align: top;\n",
       "    }\n",
       "\n",
       "    .dataframe thead th {\n",
       "        text-align: right;\n",
       "    }\n",
       "</style>\n",
       "<table border=\"1\" class=\"dataframe\">\n",
       "  <thead>\n",
       "    <tr style=\"text-align: right;\">\n",
       "      <th></th>\n",
       "      <th>Data</th>\n",
       "      <th>USD-BRL</th>\n",
       "    </tr>\n",
       "  </thead>\n",
       "  <tbody>\n",
       "    <tr>\n",
       "      <th>0</th>\n",
       "      <td>06.03.2019</td>\n",
       "      <td>3,8400</td>\n",
       "    </tr>\n",
       "    <tr>\n",
       "      <th>1</th>\n",
       "      <td>05.03.2019</td>\n",
       "      <td>3,7755</td>\n",
       "    </tr>\n",
       "    <tr>\n",
       "      <th>2</th>\n",
       "      <td>04.03.2019</td>\n",
       "      <td>3,7755</td>\n",
       "    </tr>\n",
       "    <tr>\n",
       "      <th>3</th>\n",
       "      <td>01.03.2019</td>\n",
       "      <td>3,7752</td>\n",
       "    </tr>\n",
       "    <tr>\n",
       "      <th>4</th>\n",
       "      <td>28.02.2019</td>\n",
       "      <td>3,7514</td>\n",
       "    </tr>\n",
       "    <tr>\n",
       "      <th>...</th>\n",
       "      <td>...</td>\n",
       "      <td>...</td>\n",
       "    </tr>\n",
       "    <tr>\n",
       "      <th>6290</th>\n",
       "      <td>12.03.2019</td>\n",
       "      <td>3,8114</td>\n",
       "    </tr>\n",
       "    <tr>\n",
       "      <th>6291</th>\n",
       "      <td>11.03.2019</td>\n",
       "      <td>3,8403</td>\n",
       "    </tr>\n",
       "    <tr>\n",
       "      <th>6292</th>\n",
       "      <td>08.03.2019</td>\n",
       "      <td>3,8669</td>\n",
       "    </tr>\n",
       "    <tr>\n",
       "      <th>6293</th>\n",
       "      <td>07.03.2019</td>\n",
       "      <td>3,8704</td>\n",
       "    </tr>\n",
       "    <tr>\n",
       "      <th>6294</th>\n",
       "      <td>06.03.2019</td>\n",
       "      <td>3,8400</td>\n",
       "    </tr>\n",
       "  </tbody>\n",
       "</table>\n",
       "<p>6295 rows × 2 columns</p>\n",
       "</div>"
      ],
      "text/plain": [
       "            Data USD-BRL\n",
       "0     06.03.2019  3,8400\n",
       "1     05.03.2019  3,7755\n",
       "2     04.03.2019  3,7755\n",
       "3     01.03.2019  3,7752\n",
       "4     28.02.2019  3,7514\n",
       "...          ...     ...\n",
       "6290  12.03.2019  3,8114\n",
       "6291  11.03.2019  3,8403\n",
       "6292  08.03.2019  3,8669\n",
       "6293  07.03.2019  3,8704\n",
       "6294  06.03.2019  3,8400\n",
       "\n",
       "[6295 rows x 2 columns]"
      ]
     },
     "execution_count": 72,
     "metadata": {},
     "output_type": "execute_result"
    }
   ],
   "source": [
    "# Ler os arquivos CSV\n",
    "df_usd_1 = pd.read_csv('USD_BRL Dados Históricos.csv')\n",
    "df_usd_2 = pd.read_csv('USD_BRL Dados Históricos II.csv')\n",
    "# Combinar os DataFrames\n",
    "df_usd = pd.concat([df_usd_1, df_usd_2], ignore_index=True)\n",
    "df_usd['USD-BRL']=df_usd['Último']\n",
    "df_usd=df_usd[['Data', 'USD-BRL']]\n",
    "df_usd"
   ]
  },
  {
   "cell_type": "markdown",
   "metadata": {},
   "source": [
    "### Verificar dados vacios"
   ]
  },
  {
   "cell_type": "code",
   "execution_count": 73,
   "metadata": {},
   "outputs": [
    {
     "name": "stdout",
     "output_type": "stream",
     "text": [
      "Data       0\n",
      "USD-BRL    0\n",
      "dtype: int64\n"
     ]
    }
   ],
   "source": [
    "print(df_usd.isnull().sum())"
   ]
  },
  {
   "cell_type": "markdown",
   "metadata": {},
   "source": [
    "### Verificar tipos de dados"
   ]
  },
  {
   "cell_type": "code",
   "execution_count": 74,
   "metadata": {},
   "outputs": [
    {
     "name": "stdout",
     "output_type": "stream",
     "text": [
      "Data       object\n",
      "USD-BRL    object\n",
      "dtype: object\n",
      "************************************************************\n",
      "Data       06.03.2019\n",
      "USD-BRL        3,8400\n",
      "Name: 0, dtype: object\n"
     ]
    }
   ],
   "source": [
    "print(df_usd.dtypes)\n",
    "print('*'*60)\n",
    "print(df_usd.iloc[0])"
   ]
  },
  {
   "cell_type": "markdown",
   "metadata": {},
   "source": [
    "- Tem que convertir a coluna Data a formato de datatime e a coluna USD-BRL a float"
   ]
  },
  {
   "cell_type": "code",
   "execution_count": 75,
   "metadata": {},
   "outputs": [],
   "source": [
    "# Convertir 'Data' a formato de fecha\n",
    "df_usd['Data'] = pd.to_datetime(df_usd['Data'], format='%d.%m.%Y')\n",
    "\n",
    "# Convertir 'USD-BRL' a tipo de dato float\n",
    "df_usd['USD-BRL'] = df_usd['USD-BRL'].str.replace(',', '.').astype(float)"
   ]
  },
  {
   "cell_type": "code",
   "execution_count": 76,
   "metadata": {
    "scrolled": true
   },
   "outputs": [
    {
     "data": {
      "text/html": [
       "<div>\n",
       "<style scoped>\n",
       "    .dataframe tbody tr th:only-of-type {\n",
       "        vertical-align: middle;\n",
       "    }\n",
       "\n",
       "    .dataframe tbody tr th {\n",
       "        vertical-align: top;\n",
       "    }\n",
       "\n",
       "    .dataframe thead th {\n",
       "        text-align: right;\n",
       "    }\n",
       "</style>\n",
       "<table border=\"1\" class=\"dataframe\">\n",
       "  <thead>\n",
       "    <tr style=\"text-align: right;\">\n",
       "      <th></th>\n",
       "      <th>Data</th>\n",
       "      <th>USD-BRL</th>\n",
       "    </tr>\n",
       "  </thead>\n",
       "  <tbody>\n",
       "    <tr>\n",
       "      <th>0</th>\n",
       "      <td>2019-03-06</td>\n",
       "      <td>3.8400</td>\n",
       "    </tr>\n",
       "    <tr>\n",
       "      <th>1</th>\n",
       "      <td>2019-03-05</td>\n",
       "      <td>3.7755</td>\n",
       "    </tr>\n",
       "    <tr>\n",
       "      <th>2</th>\n",
       "      <td>2019-03-04</td>\n",
       "      <td>3.7755</td>\n",
       "    </tr>\n",
       "    <tr>\n",
       "      <th>3</th>\n",
       "      <td>2019-03-01</td>\n",
       "      <td>3.7752</td>\n",
       "    </tr>\n",
       "    <tr>\n",
       "      <th>4</th>\n",
       "      <td>2019-02-28</td>\n",
       "      <td>3.7514</td>\n",
       "    </tr>\n",
       "  </tbody>\n",
       "</table>\n",
       "</div>"
      ],
      "text/plain": [
       "        Data  USD-BRL\n",
       "0 2019-03-06   3.8400\n",
       "1 2019-03-05   3.7755\n",
       "2 2019-03-04   3.7755\n",
       "3 2019-03-01   3.7752\n",
       "4 2019-02-28   3.7514"
      ]
     },
     "metadata": {},
     "output_type": "display_data"
    },
    {
     "name": "stdout",
     "output_type": "stream",
     "text": [
      "Data       datetime64[ns]\n",
      "USD-BRL           float64\n",
      "dtype: object\n",
      "************************************************************\n",
      "Data       2019-03-06 00:00:00\n",
      "USD-BRL                   3.84\n",
      "Name: 0, dtype: object\n"
     ]
    }
   ],
   "source": [
    "display(df_usd.head())\n",
    "print(df_usd.dtypes)\n",
    "print('*'*60)\n",
    "print(df_usd.iloc[0])"
   ]
  },
  {
   "cell_type": "markdown",
   "metadata": {},
   "source": [
    "## Importar base de dados de cotação EUR-BRL"
   ]
  },
  {
   "cell_type": "code",
   "execution_count": 77,
   "metadata": {},
   "outputs": [
    {
     "data": {
      "text/html": [
       "<div>\n",
       "<style scoped>\n",
       "    .dataframe tbody tr th:only-of-type {\n",
       "        vertical-align: middle;\n",
       "    }\n",
       "\n",
       "    .dataframe tbody tr th {\n",
       "        vertical-align: top;\n",
       "    }\n",
       "\n",
       "    .dataframe thead th {\n",
       "        text-align: right;\n",
       "    }\n",
       "</style>\n",
       "<table border=\"1\" class=\"dataframe\">\n",
       "  <thead>\n",
       "    <tr style=\"text-align: right;\">\n",
       "      <th></th>\n",
       "      <th>Data</th>\n",
       "      <th>EUR-BRL</th>\n",
       "    </tr>\n",
       "  </thead>\n",
       "  <tbody>\n",
       "    <tr>\n",
       "      <th>0</th>\n",
       "      <td>06.03.2019</td>\n",
       "      <td>4,3419</td>\n",
       "    </tr>\n",
       "    <tr>\n",
       "      <th>1</th>\n",
       "      <td>05.03.2019</td>\n",
       "      <td>4,2694</td>\n",
       "    </tr>\n",
       "    <tr>\n",
       "      <th>2</th>\n",
       "      <td>04.03.2019</td>\n",
       "      <td>4,2812</td>\n",
       "    </tr>\n",
       "    <tr>\n",
       "      <th>3</th>\n",
       "      <td>01.03.2019</td>\n",
       "      <td>4,2948</td>\n",
       "    </tr>\n",
       "    <tr>\n",
       "      <th>4</th>\n",
       "      <td>28.02.2019</td>\n",
       "      <td>4,2657</td>\n",
       "    </tr>\n",
       "    <tr>\n",
       "      <th>...</th>\n",
       "      <td>...</td>\n",
       "      <td>...</td>\n",
       "    </tr>\n",
       "    <tr>\n",
       "      <th>6295</th>\n",
       "      <td>12.03.2019</td>\n",
       "      <td>4,3022</td>\n",
       "    </tr>\n",
       "    <tr>\n",
       "      <th>6296</th>\n",
       "      <td>11.03.2019</td>\n",
       "      <td>4,3185</td>\n",
       "    </tr>\n",
       "    <tr>\n",
       "      <th>6297</th>\n",
       "      <td>08.03.2019</td>\n",
       "      <td>4,3465</td>\n",
       "    </tr>\n",
       "    <tr>\n",
       "      <th>6298</th>\n",
       "      <td>07.03.2019</td>\n",
       "      <td>4,3324</td>\n",
       "    </tr>\n",
       "    <tr>\n",
       "      <th>6299</th>\n",
       "      <td>06.03.2019</td>\n",
       "      <td>4,3419</td>\n",
       "    </tr>\n",
       "  </tbody>\n",
       "</table>\n",
       "<p>6300 rows × 2 columns</p>\n",
       "</div>"
      ],
      "text/plain": [
       "            Data EUR-BRL\n",
       "0     06.03.2019  4,3419\n",
       "1     05.03.2019  4,2694\n",
       "2     04.03.2019  4,2812\n",
       "3     01.03.2019  4,2948\n",
       "4     28.02.2019  4,2657\n",
       "...          ...     ...\n",
       "6295  12.03.2019  4,3022\n",
       "6296  11.03.2019  4,3185\n",
       "6297  08.03.2019  4,3465\n",
       "6298  07.03.2019  4,3324\n",
       "6299  06.03.2019  4,3419\n",
       "\n",
       "[6300 rows x 2 columns]"
      ]
     },
     "execution_count": 77,
     "metadata": {},
     "output_type": "execute_result"
    }
   ],
   "source": [
    "# Ler os arquivos CSV\n",
    "df_eur_1=pd.read_csv('EUR_BRL Dados Históricos.csv')\n",
    "df_eur_2=pd.read_csv('EUR_BRL Dados Históricos II.csv')\n",
    "# Combinar os DataFrames\n",
    "df_eur = pd.concat([df_eur_1, df_eur_2], ignore_index=True)\n",
    "df_eur['EUR-BRL']=df_eur['Último']\n",
    "df_eur=df_eur[['Data', 'EUR-BRL']]\n",
    "df_eur"
   ]
  },
  {
   "cell_type": "markdown",
   "metadata": {},
   "source": [
    "### Verificar dados vacios"
   ]
  },
  {
   "cell_type": "code",
   "execution_count": 78,
   "metadata": {},
   "outputs": [
    {
     "name": "stdout",
     "output_type": "stream",
     "text": [
      "Data       0\n",
      "EUR-BRL    0\n",
      "dtype: int64\n"
     ]
    }
   ],
   "source": [
    "print(df_eur.isnull().sum())"
   ]
  },
  {
   "cell_type": "markdown",
   "metadata": {},
   "source": [
    "### Verificar tipos de dados"
   ]
  },
  {
   "cell_type": "code",
   "execution_count": 79,
   "metadata": {},
   "outputs": [
    {
     "name": "stdout",
     "output_type": "stream",
     "text": [
      "Data       object\n",
      "EUR-BRL    object\n",
      "dtype: object\n",
      "************************************************************\n",
      "Data       06.03.2019\n",
      "EUR-BRL        4,3419\n",
      "Name: 0, dtype: object\n"
     ]
    }
   ],
   "source": [
    "print(df_eur.dtypes)\n",
    "print('*'*60)\n",
    "print(df_eur.iloc[0])"
   ]
  },
  {
   "cell_type": "markdown",
   "metadata": {},
   "source": [
    "- Tem que convertir a coluna Data a formato de datatime e a coluna EUR-BRL a float"
   ]
  },
  {
   "cell_type": "code",
   "execution_count": 80,
   "metadata": {},
   "outputs": [],
   "source": [
    "# Convertir 'Data' a formato de fecha\n",
    "df_eur['Data'] = pd.to_datetime(df_eur['Data'], format='%d.%m.%Y')\n",
    "\n",
    "# Convertir 'EUR-BRL' a tipo de dato float\n",
    "df_eur['EUR-BRL'] = df_eur['EUR-BRL'].str.replace(',', '.').astype(float)"
   ]
  },
  {
   "cell_type": "code",
   "execution_count": 81,
   "metadata": {},
   "outputs": [
    {
     "data": {
      "text/html": [
       "<div>\n",
       "<style scoped>\n",
       "    .dataframe tbody tr th:only-of-type {\n",
       "        vertical-align: middle;\n",
       "    }\n",
       "\n",
       "    .dataframe tbody tr th {\n",
       "        vertical-align: top;\n",
       "    }\n",
       "\n",
       "    .dataframe thead th {\n",
       "        text-align: right;\n",
       "    }\n",
       "</style>\n",
       "<table border=\"1\" class=\"dataframe\">\n",
       "  <thead>\n",
       "    <tr style=\"text-align: right;\">\n",
       "      <th></th>\n",
       "      <th>Data</th>\n",
       "      <th>EUR-BRL</th>\n",
       "    </tr>\n",
       "  </thead>\n",
       "  <tbody>\n",
       "    <tr>\n",
       "      <th>0</th>\n",
       "      <td>2019-03-06</td>\n",
       "      <td>4.3419</td>\n",
       "    </tr>\n",
       "    <tr>\n",
       "      <th>1</th>\n",
       "      <td>2019-03-05</td>\n",
       "      <td>4.2694</td>\n",
       "    </tr>\n",
       "    <tr>\n",
       "      <th>2</th>\n",
       "      <td>2019-03-04</td>\n",
       "      <td>4.2812</td>\n",
       "    </tr>\n",
       "    <tr>\n",
       "      <th>3</th>\n",
       "      <td>2019-03-01</td>\n",
       "      <td>4.2948</td>\n",
       "    </tr>\n",
       "    <tr>\n",
       "      <th>4</th>\n",
       "      <td>2019-02-28</td>\n",
       "      <td>4.2657</td>\n",
       "    </tr>\n",
       "  </tbody>\n",
       "</table>\n",
       "</div>"
      ],
      "text/plain": [
       "        Data  EUR-BRL\n",
       "0 2019-03-06   4.3419\n",
       "1 2019-03-05   4.2694\n",
       "2 2019-03-04   4.2812\n",
       "3 2019-03-01   4.2948\n",
       "4 2019-02-28   4.2657"
      ]
     },
     "metadata": {},
     "output_type": "display_data"
    },
    {
     "name": "stdout",
     "output_type": "stream",
     "text": [
      "Data       datetime64[ns]\n",
      "EUR-BRL           float64\n",
      "dtype: object\n",
      "************************************************************\n",
      "Data       2019-03-06 00:00:00\n",
      "EUR-BRL                 4.3419\n",
      "Name: 0, dtype: object\n"
     ]
    }
   ],
   "source": [
    "display(df_eur.head())\n",
    "print(df_eur.dtypes)\n",
    "print('*'*60)\n",
    "print(df_eur.iloc[0])"
   ]
  },
  {
   "cell_type": "markdown",
   "metadata": {},
   "source": [
    "## Presidentes"
   ]
  },
  {
   "cell_type": "code",
   "execution_count": 115,
   "metadata": {},
   "outputs": [
    {
     "data": {
      "text/html": [
       "<div>\n",
       "<style scoped>\n",
       "    .dataframe tbody tr th:only-of-type {\n",
       "        vertical-align: middle;\n",
       "    }\n",
       "\n",
       "    .dataframe tbody tr th {\n",
       "        vertical-align: top;\n",
       "    }\n",
       "\n",
       "    .dataframe thead th {\n",
       "        text-align: right;\n",
       "    }\n",
       "</style>\n",
       "<table border=\"1\" class=\"dataframe\">\n",
       "  <thead>\n",
       "    <tr style=\"text-align: right;\">\n",
       "      <th></th>\n",
       "      <th>Presidente</th>\n",
       "      <th>Inicio</th>\n",
       "      <th>Fin</th>\n",
       "    </tr>\n",
       "  </thead>\n",
       "  <tbody>\n",
       "    <tr>\n",
       "      <th>0</th>\n",
       "      <td>Fernando Henrique Cardoso</td>\n",
       "      <td>2000-01-01</td>\n",
       "      <td>2002-12-31</td>\n",
       "    </tr>\n",
       "    <tr>\n",
       "      <th>1</th>\n",
       "      <td>Lula da Silva</td>\n",
       "      <td>2003-01-01</td>\n",
       "      <td>2010-12-31</td>\n",
       "    </tr>\n",
       "    <tr>\n",
       "      <th>2</th>\n",
       "      <td>Dilma</td>\n",
       "      <td>2011-01-01</td>\n",
       "      <td>2016-08-31</td>\n",
       "    </tr>\n",
       "    <tr>\n",
       "      <th>3</th>\n",
       "      <td>Demer</td>\n",
       "      <td>2016-08-31</td>\n",
       "      <td>2018-12-31</td>\n",
       "    </tr>\n",
       "    <tr>\n",
       "      <th>4</th>\n",
       "      <td>Jair Bolsonaro</td>\n",
       "      <td>2019-01-01</td>\n",
       "      <td>2022-12-31</td>\n",
       "    </tr>\n",
       "    <tr>\n",
       "      <th>5</th>\n",
       "      <td>Lula da Silva</td>\n",
       "      <td>2023-01-01</td>\n",
       "      <td>2024-02-01</td>\n",
       "    </tr>\n",
       "  </tbody>\n",
       "</table>\n",
       "</div>"
      ],
      "text/plain": [
       "                  Presidente     Inicio        Fin\n",
       "0  Fernando Henrique Cardoso 2000-01-01 2002-12-31\n",
       "1              Lula da Silva 2003-01-01 2010-12-31\n",
       "2                      Dilma 2011-01-01 2016-08-31\n",
       "3                      Demer 2016-08-31 2018-12-31\n",
       "4             Jair Bolsonaro 2019-01-01 2022-12-31\n",
       "5              Lula da Silva 2023-01-01 2024-02-01"
      ]
     },
     "execution_count": 115,
     "metadata": {},
     "output_type": "execute_result"
    }
   ],
   "source": [
    "# Crear un diccionario con la información\n",
    "data = {\n",
    "    'Presidente': ['Fernando Henrique Cardoso', 'Lula da Silva', 'Dilma', 'Demer', 'Jair Bolsonaro', 'Lula da Silva'],\n",
    "    'Inicio': ['1995-01-01', '2003-01-01', '2011-01-01', '2016-08-31', '2019-01-01', '2023-01-01'],\n",
    "    'Fin': ['2002-12-31', '2010-12-31', '2016-08-31', '2018-12-31', '2022-12-31', '2026-12-31']\n",
    "}\n",
    "\n",
    "# Crear un DataFrame\n",
    "df_presidentes = pd.DataFrame(data)\n",
    "\n",
    "# Convertir las columnas de fechas a objetos datetime\n",
    "df_presidentes['Inicio'] = pd.to_datetime(df_presidentes['Inicio'])\n",
    "df_presidentes['Fin'] = pd.to_datetime(df_presidentes['Fin'], errors='coerce')\n",
    "df_presidentes"
   ]
  },
  {
   "cell_type": "markdown",
   "metadata": {},
   "source": [
    "## Unir los 3 datasets"
   ]
  },
  {
   "cell_type": "code",
   "execution_count": 82,
   "metadata": {},
   "outputs": [],
   "source": [
    "df_eur=df_eur.set_index('Data')\n",
    "df_ipca=df_ipca.set_index('Data')\n",
    "df_usd=df_usd.set_index('Data')"
   ]
  },
  {
   "cell_type": "code",
   "execution_count": 94,
   "metadata": {},
   "outputs": [
    {
     "data": {
      "text/html": [
       "<div>\n",
       "<style scoped>\n",
       "    .dataframe tbody tr th:only-of-type {\n",
       "        vertical-align: middle;\n",
       "    }\n",
       "\n",
       "    .dataframe tbody tr th {\n",
       "        vertical-align: top;\n",
       "    }\n",
       "\n",
       "    .dataframe thead th {\n",
       "        text-align: right;\n",
       "    }\n",
       "</style>\n",
       "<table border=\"1\" class=\"dataframe\">\n",
       "  <thead>\n",
       "    <tr style=\"text-align: right;\">\n",
       "      <th></th>\n",
       "      <th>IPCA(%)</th>\n",
       "      <th>USD-BRL</th>\n",
       "      <th>EUR-BRL</th>\n",
       "    </tr>\n",
       "    <tr>\n",
       "      <th>Data</th>\n",
       "      <th></th>\n",
       "      <th></th>\n",
       "      <th></th>\n",
       "    </tr>\n",
       "  </thead>\n",
       "  <tbody>\n",
       "    <tr>\n",
       "      <th>2000-02-15</th>\n",
       "      <td>1.57</td>\n",
       "      <td>1.7765</td>\n",
       "      <td>1.7435</td>\n",
       "    </tr>\n",
       "    <tr>\n",
       "      <th>2000-03-15</th>\n",
       "      <td>2.67</td>\n",
       "      <td>1.7400</td>\n",
       "      <td>1.6835</td>\n",
       "    </tr>\n",
       "    <tr>\n",
       "      <th>2000-05-15</th>\n",
       "      <td>0.12</td>\n",
       "      <td>1.8235</td>\n",
       "      <td>1.6626</td>\n",
       "    </tr>\n",
       "    <tr>\n",
       "      <th>2000-06-15</th>\n",
       "      <td>2.80</td>\n",
       "      <td>1.8110</td>\n",
       "      <td>1.7284</td>\n",
       "    </tr>\n",
       "    <tr>\n",
       "      <th>2000-08-15</th>\n",
       "      <td>16.90</td>\n",
       "      <td>1.8035</td>\n",
       "      <td>1.6461</td>\n",
       "    </tr>\n",
       "    <tr>\n",
       "      <th>...</th>\n",
       "      <td>...</td>\n",
       "      <td>...</td>\n",
       "      <td>...</td>\n",
       "    </tr>\n",
       "    <tr>\n",
       "      <th>2023-08-15</th>\n",
       "      <td>2.80</td>\n",
       "      <td>4.9845</td>\n",
       "      <td>5.4351</td>\n",
       "    </tr>\n",
       "    <tr>\n",
       "      <th>2023-09-15</th>\n",
       "      <td>3.17</td>\n",
       "      <td>4.8663</td>\n",
       "      <td>5.1851</td>\n",
       "    </tr>\n",
       "    <tr>\n",
       "      <th>2023-11-15</th>\n",
       "      <td>3.41</td>\n",
       "      <td>4.8620</td>\n",
       "      <td>5.2733</td>\n",
       "    </tr>\n",
       "    <tr>\n",
       "      <th>2023-12-15</th>\n",
       "      <td>6.93</td>\n",
       "      <td>4.9371</td>\n",
       "      <td>5.3785</td>\n",
       "    </tr>\n",
       "    <tr>\n",
       "      <th>2024-01-15</th>\n",
       "      <td>5.16</td>\n",
       "      <td>4.8628</td>\n",
       "      <td>5.3238</td>\n",
       "    </tr>\n",
       "  </tbody>\n",
       "</table>\n",
       "<p>206 rows × 3 columns</p>\n",
       "</div>"
      ],
      "text/plain": [
       "            IPCA(%)  USD-BRL  EUR-BRL\n",
       "Data                                 \n",
       "2000-02-15     1.57   1.7765   1.7435\n",
       "2000-03-15     2.67   1.7400   1.6835\n",
       "2000-05-15     0.12   1.8235   1.6626\n",
       "2000-06-15     2.80   1.8110   1.7284\n",
       "2000-08-15    16.90   1.8035   1.6461\n",
       "...             ...      ...      ...\n",
       "2023-08-15     2.80   4.9845   5.4351\n",
       "2023-09-15     3.17   4.8663   5.1851\n",
       "2023-11-15     3.41   4.8620   5.2733\n",
       "2023-12-15     6.93   4.9371   5.3785\n",
       "2024-01-15     5.16   4.8628   5.3238\n",
       "\n",
       "[206 rows x 3 columns]"
      ]
     },
     "metadata": {},
     "output_type": "display_data"
    },
    {
     "name": "stdout",
     "output_type": "stream",
     "text": [
      "          IPCA(%)     USD-BRL     EUR-BRL\n",
      "count  206.000000  206.000000  206.000000\n",
      "mean     6.147087    2.984604    3.483776\n",
      "std      5.313048    1.195780    1.263212\n",
      "min     -7.860000    1.574600    1.574300\n",
      "25%      3.170000    2.022600    2.561300\n",
      "50%      5.530000    2.599300    3.174850\n",
      "75%      8.340000    3.717200    4.231125\n",
      "max     42.910000    5.855400    6.719800\n"
     ]
    }
   ],
   "source": [
    "cotacoes=df_ipca.merge(df_usd, on='Data')\n",
    "cotacoes=cotacoes.merge(df_eur, on='Data')\n",
    "display(cotacoes)\n",
    "print(cotacoes.describe())"
   ]
  },
  {
   "cell_type": "markdown",
   "metadata": {},
   "source": [
    "## Pandas Visualization"
   ]
  },
  {
   "cell_type": "code",
   "execution_count": 138,
   "metadata": {},
   "outputs": [
    {
     "data": {
      "text/plain": [
       "<Figure size 1000x600 with 0 Axes>"
      ]
     },
     "metadata": {},
     "output_type": "display_data"
    },
    {
     "data": {
      "image/png": "[encoded data removed]",
      "text/plain": [
       "<Figure size 640x480 with 1 Axes>"
      ]
     },
     "metadata": {},
     "output_type": "display_data"
    }
   ],
   "source": [
    "plt.figure(figsize=(10,6))\n",
    "cotacoes.plot()\n",
    "plt.xlabel('Years')\n",
    "plt.ylabel('Values')\n",
    "plt.title('''Influence of the Presidents of Brazil in the last 20 years \n",
    "on inflation (IPCA) and the value of the brazilian real (BRL)''')\n",
    "plt.legend()\n",
    "\n",
    "# Añadir líneas verticales para delimitar los mandatos presidenciales\n",
    "for i, row in df_presidentes.iterrows():\n",
    "    plt.axvline(x=row['Inicio'], color='r', linestyle='--', label=row['Presidente'] + ' - Start')\n",
    "    if not pd.isnull(row['Fin']):\n",
    "        plt.axvline(x=row['Fin'], color='g', linestyle='--', label=row['Presidente'] + ' - End')\n",
    "    \n",
    "# Ajustar los límites del eje x\n",
    "plt.xlim(cotacoes.index.min(), cotacoes.index.max())\n",
    "\n",
    "\n",
    "# Agregar etiquetas de presidente en el eje x\n",
    "for i, row in df_presidentes.iterrows():\n",
    "    plt.text(row['Inicio'], cotacoes.min().min(), row['Presidente'], rotation=30, ha='left', va='bottom')\n",
    "\n",
    "# # Crear una leyenda separada para identificar a los presidentes\n",
    "# legend_presidentes = plt.legend(title='Presidents', loc='upper left')\n",
    "# for line in legend_presidentes.get_lines():\n",
    "#     line.set_linestyle('--')\n",
    "# plt.gca().add_artist(legend_presidentes)\n",
    "    \n",
    "# # Agregar etiquetas de presidente en el gráfico\n",
    "# for i, row in df_presidentes.iterrows():\n",
    "#     plt.text(row['Inicio'], cotacoes.min().min(), row['Presidente'], rotation=45, ha='left', va='bottom', bbox=dict(boxstyle='round,pad=0.3', edgecolor='blue', facecolor='white'))\n",
    "\n",
    "\n",
    "# # Agregar anotaciones de presidente en el gráfico\n",
    "# for i, row in df_presidentes.iterrows():\n",
    "#     plt.annotate(row['Presidente'], xy=(row['Inicio'], cotacoes.max().max()), xytext=(50, -100),\n",
    "#                  textcoords='offset points', rotation=45, ha='right', va='bottom', color='blue')\n",
    "\n",
    "\n",
    "plt.show()"
   ]
  },
  {
   "cell_type": "markdown",
   "metadata": {},
   "source": [
    "### Justificativa de como o visual aborda a questão de pesquisa\n",
    "\n",
    "- Eixo vertical: Mostra o percentual de inflação (IPCA) e o valor de USD-BRL e EUR-BRL.\n",
    "\n",
    "- Eixo horizontal: Mostra os anos de 2002 a 2024, divididos pela presidência de cada presidente.\n",
    "\n",
    "- Linhas:\n",
    "\n",
    "IPCA: A linha vermelha mostra a taxa anual de inflação no Brasil durante o período de análise. Observa-se uma tendência geral descendente, com alguns picos em 2003, 2015 e 2020.\n",
    "USD-BRL: A linha azul mostra o valor do dólar americano em reais brasileiros. Observa-se uma tendência geral ascendente, com alguns picos em 2002, 2008 e 2015.\n",
    "EUR-BRL: A linha verde mostra o valor do euro em reais brasileiros. Uma tendência semelhante é observada no USD-BRL, com uma tendência geral ascendente e alguns picos em 2002, 2008 e 2015.\n",
    "\n",
    "- Presidências:\n",
    "\n",
    "Fernando Henrique Cardoso (1995-2002): Durante seu mandato foi observado um aumento significativo da inflação, obtendo o maior pico neste período analisado. O valor do real brasileiro desvalorizou significativamente em relação ao dólar norte-americano.\n",
    "\n",
    "Luiz Inácio Lula da Silva (2003-2010): A inflação permaneceu baixa durante seu primeiro mandato, mas depois começou a subir novamente. O valor do real brasileiro se valorizou em relação ao dólar norte-americano.\n",
    "\n",
    "Dilma Rousseff (2011-2016): A inflação aumentou consideravelmente durante o seu mandato, atingindo um pico de mais de 10% ao ano em 2015. O valor do real brasileiro desvalorizou significativamente em relação ao dólar americano.\n",
    "\n",
    "Michel Temer (2016-2018): A inflação voltou a cair durante seu mandato. O valor do real brasileiro valorizou-se ligeiramente em relação ao dólar norte-americano.\n",
    "\n",
    "Jair Bolsonaro (2019-2022): A inflação permaneceu relativamente baixa durante seu mandato, mas o valor do real brasileiro desvalorizou significativamente em relação ao dólar americano.\n",
    "\n",
    "Luiz Inácio Lula da Silva (2023-presente): É muito cedo para avaliar o impacto do seu mandato na inflação e no valor do real brasileiro.\n",
    "\n",
    "No geral, a imagem mostra que a inflação e o valor do real brasileiro foram influenciados por uma série de fatores, incluindo as políticas económicas implementadas por cada presidente.\n",
    "É importante ressaltar que a imagem fornece apenas uma visão geral do tema. Para uma análise mais detalhada, são necessárias pesquisas adicionais.\n",
    "\n",
    "\n",
    "### Princípios do Cairo na imagem\n",
    "\n",
    "Veracidade:\n",
    "\n",
    "- Dados: A imagem apresenta dados precisos sobre a inflação (IPCA) e o valor do real brasileiro (BRL) e do EUR-BRL nos últimos 20 anos.\n",
    "- Clareza: O gráfico é fácil de ler e entender. Os eixos estão claramente identificados e as linhas são diferenciadas por cores.\n",
    "- Precisão: Os dados utilizados para criação da imagem foram obtidos de fontes confiáveis ​​como o Banco Central do Brasil.\n",
    "\n",
    "Beleza:\n",
    "\n",
    "- Simplicidade: O design da imagem é simples e minimalista, facilitando a compreensão da mensagem.\n",
    "- Elegância: A combinação de cores e a tipografia agradam aos olhos.\n",
    "- Equilíbrio: Os elementos da imagem estão bem equilibrados e distribuídos uniformemente.\n",
    "\n",
    "Funcionalidade:\n",
    "\n",
    "- Comunicação: A imagem transmite efetivamente informações sobre a influência dos presidentes do Brasil na inflação e no valor do real brasileiro.\n",
    "- Utilidade: A imagem pode ser utilizada para diversos fins, como apresentações, reportagens ou publicações em redes sociais.\n",
    "- Acessibilidade: A imagem é acessível a pessoas com diferentes habilidades, inclusive pessoas com daltonismo.\n",
    "\n",
    "Entendimento:\n",
    "\n",
    "- Informação: A imagem fornece informações que não são evidentes à primeira vista. Por exemplo, a imagem mostra que a inflação tende a diminuir no longo prazo, apesar de alguns picos.\n",
    "- Interpretação: A imagem permite ao usuário interpretar a informação de diferentes maneiras. Por exemplo, alguns usuários podem focar na inflação, enquanto outros podem focar no valor do real brasileiro.\n",
    "- Reflexão: A imagem convida à reflexão sobre o impacto das políticas econômicas na economia brasileira.\n",
    "\n",
    "Opções de design:\n",
    "\n",
    "- Tipografia: Foi utilizada uma tipografia sem serifa legível e moderna.\n",
    "- Cores: Foi utilizada uma paleta de cores neutras e profissionais.\n",
    "- Design: O design é minimalista e centrado em dados.\n",
    "\n",
    "Conclusão:\n",
    "\n",
    "A imagem está em conformidade com os princípios do Cairo, apresentando informações precisas e verdadeiras de uma forma bonita, funcional e perspicaz. A imagem pode ser usada para comunicar informações complexas de uma forma fácil de entender."
   ]
  }
 ],
 "metadata": {
  "coursera": {
   "schema_names": [
    "mooc_adswpy_v1_assignment4"
   ]
  },
  "kernelspec": {
   "display_name": "Python 3 (ipykernel)",
   "language": "python",
   "name": "python3"
  },
  "language_info": {
   "codemirror_mode": {
    "name": "ipython",
    "version": 3
   },
   "file_extension": ".py",
   "mimetype": "text/x-python",
   "name": "python",
   "nbconvert_exporter": "python",
   "pygments_lexer": "ipython3",
   "version": "3.11.5"
  },
  "vscode": {
   "interpreter": {
    "hash": "aee8b7b246df8f9039afb4144a1f6fd8d2ca17a180786b69acc140d282b71a49"
   }
  }
 },
 "nbformat": 4,
 "nbformat_minor": 4
}
